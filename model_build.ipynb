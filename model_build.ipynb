{
 "cells": [
  {
   "cell_type": "markdown",
   "id": "4d0f4b92-f32a-4a7f-9d88-e9972acb9452",
   "metadata": {},
   "source": [
    "# Import packages"
   ]
  },
  {
   "cell_type": "code",
   "execution_count": 1,
   "id": "2ae4addc-f66c-445d-b5a3-6e96e1796a2a",
   "metadata": {
    "execution": {
     "iopub.execute_input": "2024-12-18T18:22:48.637788Z",
     "iopub.status.busy": "2024-12-18T18:22:48.635834Z",
     "iopub.status.idle": "2024-12-18T18:22:51.549440Z",
     "shell.execute_reply": "2024-12-18T18:22:51.549002Z",
     "shell.execute_reply.started": "2024-12-18T18:22:48.637330Z"
    }
   },
   "outputs": [],
   "source": [
    "import os\n",
    "import numpy as np\n",
    "import pandas as pd\n",
    "import geopandas as gpd\n",
    "from datetime import datetime\n",
    "import matplotlib.pyplot as plt\n",
    "\n",
    "from hydromt_sfincs import SfincsModel\n",
    "from hydromt.config import configread\n",
    "from hydromt_sfincs import utils\n",
    "from hydromt.log import setuplog"
   ]
  },
  {
   "cell_type": "markdown",
   "id": "f6d6891c-f720-4af4-a2aa-8af79c21c768",
   "metadata": {},
   "source": [
    "# Functions"
   ]
  },
  {
   "cell_type": "code",
   "execution_count": 1,
   "id": "3ea3f184-70b8-48b2-b38c-eacd552c913d",
   "metadata": {
    "execution": {
     "iopub.execute_input": "2025-01-08T13:30:40.823158Z",
     "iopub.status.busy": "2025-01-08T13:30:40.822047Z",
     "iopub.status.idle": "2025-01-08T13:30:41.450951Z",
     "shell.execute_reply": "2025-01-08T13:30:41.450236Z",
     "shell.execute_reply.started": "2025-01-08T13:30:40.823100Z"
    }
   },
   "outputs": [],
   "source": [
    "from scipy.optimize import newton"
   ]
  },
  {
   "cell_type": "code",
   "execution_count": 2,
   "id": "c3910fa3-6c26-4bf2-99a1-c07113f04e8a",
   "metadata": {
    "execution": {
     "iopub.execute_input": "2024-11-26T09:57:24.387433Z",
     "iopub.status.busy": "2024-11-26T09:57:24.387004Z",
     "iopub.status.idle": "2024-11-26T09:57:24.392299Z",
     "shell.execute_reply": "2024-11-26T09:57:24.391655Z",
     "shell.execute_reply.started": "2024-11-26T09:57:24.387416Z"
    }
   },
   "outputs": [],
   "source": [
    "# Compute river depth using Manning equation\n",
    "\n",
    "from scipy.optimize import newton\n",
    "\n",
    "def h_newton(gdf_riv):\n",
    "    # Constants\n",
    "    B = gdf_riv['rivwth']\n",
    "    n = gdf_riv['manning']\n",
    "    S = gdf_riv['slp']\n",
    "    K = B**(5/3)*np.sqrt(S)/(3*n)\n",
    "    Q = gdf_riv['qbankfull']\n",
    "\n",
    "    # Define the function and its derivative\n",
    "    def f(h, B, K, Q):\n",
    "        return K * h**(5/3) / (h + 2*B)**(2/3) - Q\n",
    "\n",
    "    def df(h, B, K, Q):  # Add Q as an argument\n",
    "        return K * h**(2/3) * (6*h + 5*B) / (2*h + B)**(5/3)\n",
    "\n",
    "    # Initialize the river depth column\n",
    "    gdf_riv['rivdph'] = np.nan\n",
    "    gdf_riv['k'] = K\n",
    "\n",
    "    # Apply the Newton-Raphson method to each row\n",
    "    for i, row in gdf_riv.iterrows():\n",
    "        B = row['rivwth']\n",
    "        K = row['k']\n",
    "        Q = row['qbankfull']  # Extract the scalar value\n",
    "        h0 = 1  # initial guess\n",
    "        h = newton(f, h0, df, args=(B, K, Q), maxiter=1000)\n",
    "        gdf_riv.at[i, 'rivdph'] = np.round(h,2)\n",
    "\n",
    "    return gdf_riv[['geometry','rivwth', 'qbankfull','slp', 'rivdph','manning']]\n"
   ]
  },
  {
   "cell_type": "markdown",
   "id": "8952203f-3800-4786-be19-11b231f5ac70",
   "metadata": {},
   "source": [
    "# Build model"
   ]
  },
  {
   "cell_type": "code",
   "execution_count": 4,
   "id": "72c0a149-26be-49de-81e3-80bece17b52b",
   "metadata": {
    "execution": {
     "iopub.execute_input": "2024-12-18T18:23:55.573810Z",
     "iopub.status.busy": "2024-12-18T18:23:55.572565Z",
     "iopub.status.idle": "2024-12-18T18:23:55.602428Z",
     "shell.execute_reply": "2024-12-18T18:23:55.601913Z",
     "shell.execute_reply.started": "2024-12-18T18:23:55.573728Z"
    }
   },
   "outputs": [
    {
     "name": "stdout",
     "output_type": "stream",
     "text": [
      "2024-12-18 19:23:55,590 - /Users/aprida/Documents/Consulting/Private_sector/Keolis/Model_Alvaro/FL_rp100_baseline - log - INFO - HydroMT version: 0.8.0\n"
     ]
    }
   ],
   "source": [
    "model_file = configread('/Users/aprida/Documents/Consulting/Private_sector/Keolis/Model_Alvaro/model_scenario_files/FL_rp100_baseline.yml', abs_path=True)\n",
    "\n",
    "root = str(model_file['root']) # Model name\n",
    "data_libs = str(model_file['data_libs']) # Data catalog path\n",
    "region = str(model_file['region'])\n",
    "logger = setuplog(root, log_level = 10) # Show messages when executing model operations\n",
    "\n",
    "sf = SfincsModel(root=root, mode='r+', data_libs=data_libs) # Initialize model class -> Create model folder"
   ]
  },
  {
   "cell_type": "markdown",
   "id": "3868a36e-80a3-4496-98c3-219a0d6c32bd",
   "metadata": {},
   "source": [
    "# Setup grid"
   ]
  },
  {
   "cell_type": "code",
   "execution_count": 24,
   "id": "ead1b134-adf6-4254-b717-3eb1280398cb",
   "metadata": {
    "execution": {
     "iopub.execute_input": "2024-11-26T10:07:54.169807Z",
     "iopub.status.busy": "2024-11-26T10:07:54.169146Z",
     "iopub.status.idle": "2024-11-26T10:07:54.410616Z",
     "shell.execute_reply": "2024-11-26T10:07:54.410097Z",
     "shell.execute_reply.started": "2024-11-26T10:07:54.169764Z"
    }
   },
   "outputs": [],
   "source": [
    "# res = model_file['res_fl'] if 'fluvial' in region else model_file['res_pl']\n",
    "res = model_file['res']\n",
    "sf.setup_grid_from_region(region={'geom': region}, res=res, crs=str(model_file['crs']))"
   ]
  },
  {
   "cell_type": "code",
   "execution_count": 26,
   "id": "2d321b11-df47-4e26-abad-07a22ae8eacf",
   "metadata": {
    "execution": {
     "iopub.execute_input": "2024-11-26T10:08:01.538496Z",
     "iopub.status.busy": "2024-11-26T10:08:01.537957Z",
     "iopub.status.idle": "2024-11-26T10:08:01.559222Z",
     "shell.execute_reply": "2024-11-26T10:08:01.558008Z",
     "shell.execute_reply.started": "2024-11-26T10:08:01.538459Z"
    }
   },
   "outputs": [
    {
     "data": {
      "text/plain": [
       "<Projected CRS: EPSG:32631>\n",
       "Name: WGS 84 / UTM zone 31N\n",
       "Axis Info [cartesian]:\n",
       "- E[east]: Easting (metre)\n",
       "- N[north]: Northing (metre)\n",
       "Area of Use:\n",
       "- name: Between 0°E and 6°E, northern hemisphere between equator and 84°N, onshore and offshore. Algeria. Andorra. Belgium. Benin. Burkina Faso. Denmark - North Sea. France. Germany - North Sea. Ghana. Luxembourg. Mali. Netherlands. Niger. Nigeria. Norway. Spain. Togo. United Kingdom (UK) - North Sea.\n",
       "- bounds: (0.0, 0.0, 6.0, 84.0)\n",
       "Coordinate Operation:\n",
       "- name: UTM zone 31N\n",
       "- method: Transverse Mercator\n",
       "Datum: World Geodetic System 1984 ensemble\n",
       "- Ellipsoid: WGS 84\n",
       "- Prime Meridian: Greenwich"
      ]
     },
     "execution_count": 26,
     "metadata": {},
     "output_type": "execute_result"
    }
   ],
   "source": [
    "sf.crs"
   ]
  },
  {
   "cell_type": "markdown",
   "id": "eafe059d-15ef-46d8-bb93-fa12e975b74e",
   "metadata": {},
   "source": [
    "# Computational parameters"
   ]
  },
  {
   "cell_type": "code",
   "execution_count": 5,
   "id": "91dd4ee2-b484-4971-ad13-8de0319cffa2",
   "metadata": {
    "execution": {
     "iopub.execute_input": "2024-03-01T15:47:07.101506Z",
     "iopub.status.busy": "2024-03-01T15:47:07.101365Z",
     "iopub.status.idle": "2024-03-01T15:47:07.104295Z",
     "shell.execute_reply": "2024-03-01T15:47:07.103891Z",
     "shell.execute_reply.started": "2024-03-01T15:47:07.101493Z"
    }
   },
   "outputs": [],
   "source": [
    "sf.set_config('tref', str(model_file['tref']))\n",
    "sf.set_config('tstart', str(model_file['tstart']))\n",
    "sf.set_config('tstop', str(model_file['tstop']))"
   ]
  },
  {
   "cell_type": "code",
   "execution_count": 6,
   "id": "0cda7d63-9b4d-4266-b4f8-8fe35636f52e",
   "metadata": {
    "execution": {
     "iopub.execute_input": "2024-03-01T15:47:07.104904Z",
     "iopub.status.busy": "2024-03-01T15:47:07.104775Z",
     "iopub.status.idle": "2024-03-01T15:47:07.107962Z",
     "shell.execute_reply": "2024-03-01T15:47:07.107116Z",
     "shell.execute_reply.started": "2024-03-01T15:47:07.104891Z"
    }
   },
   "outputs": [],
   "source": [
    "sf.set_config('dtmax', str(model_file['dtmax_fl'])) if 'FL' in root else sf.set_config('dtmax', str(model_file['dtmax_pl']))\n",
    "sf.set_config('alpha', str(model_file['alpha']))"
   ]
  },
  {
   "cell_type": "markdown",
   "id": "fb5dcc1f-84af-4c55-97e5-b548f94a9bb0",
   "metadata": {},
   "source": [
    "# Mask for computational mesh"
   ]
  },
  {
   "cell_type": "code",
   "execution_count": 7,
   "id": "43c665f5-c889-4706-8f27-1d134ab3ec76",
   "metadata": {
    "execution": {
     "iopub.execute_input": "2024-03-01T15:47:07.112585Z",
     "iopub.status.busy": "2024-03-01T15:47:07.111755Z",
     "iopub.status.idle": "2024-03-01T15:47:07.615758Z",
     "shell.execute_reply": "2024-03-01T15:47:07.615370Z",
     "shell.execute_reply.started": "2024-03-01T15:47:07.112556Z"
    }
   },
   "outputs": [],
   "source": [
    "sf.setup_mask_active(mask=str(model_file['mask_active']))\n",
    "sf.setup_mask_bounds(btype='outflow', include_mask=str(model_file['mask_bounds']))"
   ]
  },
  {
   "cell_type": "markdown",
   "id": "97cb74c4-762a-4d2b-a3e7-8b17ec4050a6",
   "metadata": {},
   "source": [
    "# Setup elevation"
   ]
  },
  {
   "cell_type": "code",
   "execution_count": 8,
   "id": "57028a2b-0472-49c0-9f3c-e618ef70ffc4",
   "metadata": {
    "execution": {
     "iopub.execute_input": "2024-03-01T15:47:07.616395Z",
     "iopub.status.busy": "2024-03-01T15:47:07.616277Z",
     "iopub.status.idle": "2024-03-01T15:47:09.824472Z",
     "shell.execute_reply": "2024-03-01T15:47:09.824046Z",
     "shell.execute_reply.started": "2024-03-01T15:47:07.616383Z"
    }
   },
   "outputs": [],
   "source": [
    "elevtn = sf.data_catalog.get_rasterdataset(str(model_file['elevtn'])) # Read DEM\n",
    "datasets_dep = [{'elevtn': elevtn}]\n",
    "sf.setup_dep(datasets_dep=datasets_dep)"
   ]
  },
  {
   "cell_type": "markdown",
   "id": "639c86e2-71d1-41d1-8251-67da32c53878",
   "metadata": {},
   "source": [
    "# Compute river bathymetry"
   ]
  },
  {
   "cell_type": "code",
   "execution_count": 9,
   "id": "80001440-e91b-465a-a692-1fcf9c9eda11",
   "metadata": {
    "execution": {
     "iopub.execute_input": "2024-03-01T15:47:09.825188Z",
     "iopub.status.busy": "2024-03-01T15:47:09.825062Z",
     "iopub.status.idle": "2024-03-01T15:47:09.876945Z",
     "shell.execute_reply": "2024-03-01T15:47:09.876308Z",
     "shell.execute_reply.started": "2024-03-01T15:47:09.825176Z"
    }
   },
   "outputs": [
    {
     "name": "stdout",
     "output_type": "stream",
     "text": [
      "The value 0  was found in the slope of a segment.\n",
      "The new slope value is: 1.0858551e-05\n"
     ]
    }
   ],
   "source": [
    "# Add slope to river segments where slope is 0\n",
    "\n",
    "rivers = sf.data_catalog.get_geodataframe(str(model_file['rivers']), geom = sf.region)\n",
    "rivers = rivers[rivers['rivwth'] > 100] # Extract those rivers wider than 100 meters\n",
    "rivers['manning'] = 0.02 # Set a default Manning roughness of 0.2\n",
    "rivers = rivers[['geometry','rivwth', 'qbankfull','slp', 'manning']]\n",
    "\n",
    "# Check if there are any zero values in the 'slp' column\n",
    "if (rivers['slp'] == 0).any():\n",
    "    slp_min = rivers[rivers['slp']!=0]['slp'].min()\n",
    "    rivers['slp'] = rivers['slp'].replace(0, slp_min)\n",
    "    print(\"The value 0  was found in the slope of a segment.\")\n",
    "    print(\"The new slope value is:\", slp_min)\n",
    "else:\n",
    "    print(\"There are no zero values in the 'slp' column.\")"
   ]
  },
  {
   "cell_type": "code",
   "execution_count": 10,
   "id": "fb5bb9ab-124c-4c50-add0-ac3289eabdd0",
   "metadata": {
    "execution": {
     "iopub.execute_input": "2024-03-01T15:47:09.877720Z",
     "iopub.status.busy": "2024-03-01T15:47:09.877566Z",
     "iopub.status.idle": "2024-03-01T15:47:09.993856Z",
     "shell.execute_reply": "2024-03-01T15:47:09.993442Z",
     "shell.execute_reply.started": "2024-03-01T15:47:09.877707Z"
    }
   },
   "outputs": [],
   "source": [
    "# Compute river depth per river segment using Manning equation\n",
    "\n",
    "rivers = h_newton(rivers)\n",
    "rivers['rivdph'] = rivers['rivdph'] + 1.8 # Calibration parameter: Increase river depth to reduce river level\n",
    "sf.geoms['rivers_inflow'] = rivers # Add river geometries to model\n",
    "riv_fn = 'Inputs/rivers_inflow_modified.geojson'\n",
    "rivers.to_file(riv_fn)"
   ]
  },
  {
   "cell_type": "markdown",
   "id": "db84fe73-6528-4b92-8bca-a9968a548d07",
   "metadata": {},
   "source": [
    "# Setup Manning roughness"
   ]
  },
  {
   "cell_type": "code",
   "execution_count": 11,
   "id": "75ced1a5-0f7c-4215-92e6-ec620bda1c48",
   "metadata": {
    "execution": {
     "iopub.execute_input": "2024-03-01T15:47:09.994795Z",
     "iopub.status.busy": "2024-03-01T15:47:09.994633Z",
     "iopub.status.idle": "2024-03-01T15:47:10.216433Z",
     "shell.execute_reply": "2024-03-01T15:47:10.215942Z",
     "shell.execute_reply.started": "2024-03-01T15:47:09.994782Z"
    }
   },
   "outputs": [],
   "source": [
    "gdf_riv = sf.geoms['rivers_inflow']\n",
    "datasets_riv = [{'centerlines': gdf_riv}] # To be used in Setup_subgrid for bathymetry\n",
    "gdf_riv_buf = gdf_riv.assign(geometry=gdf_riv.buffer(gdf_riv['rivwth']/3)) # Generate river polygon using river width buffer\n",
    "da_manning = sf.grid.raster.rasterize(gdf_riv_buf, 'manning', nodata=np.nan, all_touched=True) # Rasterize Manning roughness in river polygon\n",
    "datasets_rgh = [{'manning': da_manning}, {'lulc': str(model_file['lulc'])}] # Overlay Manning roughness in river polygon and in dry areas (application of Vito LULC as default)\n",
    "\n",
    "#sf.setup_manning_roughness(datasets_rgh=datasets_rgh)\n",
    "#fig, ax = sf.plot_basemap(variable=\"dep\", plot_bounds=False, bmap=\"sat\", zoomlevel=12, plot_geoms=False)"
   ]
  },
  {
   "cell_type": "markdown",
   "id": "375d21b4-e25f-45b1-b787-36a08400ca0e",
   "metadata": {},
   "source": [
    "# Setup subgrid"
   ]
  },
  {
   "cell_type": "code",
   "execution_count": 12,
   "id": "1c0d3a19-b8ab-455d-a289-503236ab1e18",
   "metadata": {
    "execution": {
     "iopub.execute_input": "2024-03-01T15:47:10.217166Z",
     "iopub.status.busy": "2024-03-01T15:47:10.217030Z",
     "iopub.status.idle": "2024-03-01T15:47:12.890095Z",
     "shell.execute_reply": "2024-03-01T15:47:12.889681Z",
     "shell.execute_reply.started": "2024-03-01T15:47:10.217153Z"
    }
   },
   "outputs": [],
   "source": [
    "dem_res = np.round(elevtn.rio.reproject(sf.crs).raster.res[0])\n",
    "grid_res = np.round(sf.res[0])\n",
    "sub_res = int(grid_res/dem_res) # Subgrid resolution ratio is set to get the higher resolution\n",
    "                                      #If grid_res = 300 , dem_res = 30 ==> sub_res  = 10 (int(300/30))"
   ]
  },
  {
   "cell_type": "code",
   "execution_count": 13,
   "id": "ec935ba3-72f9-4665-a8a8-33d6a8736449",
   "metadata": {
    "execution": {
     "iopub.execute_input": "2024-03-01T15:47:12.890898Z",
     "iopub.status.busy": "2024-03-01T15:47:12.890774Z",
     "iopub.status.idle": "2024-03-01T15:47:52.585692Z",
     "shell.execute_reply": "2024-03-01T15:47:52.585267Z",
     "shell.execute_reply.started": "2024-03-01T15:47:12.890885Z"
    }
   },
   "outputs": [
    {
     "name": "stderr",
     "output_type": "stream",
     "text": [
      "The nodata value None is not in the reclass table.None will be used for the params.\n"
     ]
    }
   ],
   "source": [
    "sf.setup_subgrid(datasets_dep=datasets_dep,\n",
    "                datasets_rgh=datasets_rgh,\n",
    "                datasets_riv=datasets_riv,\n",
    "                nr_subgrid_pixels=sub_res,\n",
    "                write_dep_tif= True,\n",
    "                write_man_tif= True) # Set up subgrid as a stack of the different raster inputs (DEM, roughness, etc.)\n",
    "\n",
    "#This line stores the subgrid dem properly as a raster file in root/subgrid/dep_subgrid.tif\n",
    "sf.data_catalog.get_rasterdataset(os.path.join(root, 'subgrid/dep_subgrid.tif')).rio.to_raster(os.path.join(root, 'subgrid/dep_subgrid.tif'))"
   ]
  },
  {
   "cell_type": "markdown",
   "id": "fa6d68cb-9711-417c-84af-0d347bca72b5",
   "metadata": {},
   "source": [
    "# Setup discharge"
   ]
  },
  {
   "cell_type": "code",
   "execution_count": null,
   "id": "11f126b2-c06a-4ae5-8cbd-7a8240735c1d",
   "metadata": {},
   "outputs": [],
   "source": [
    "dis = pd.read_csv(str(model_file['bnd']), index_col='datetime')\n",
    "index = dis.columns\n",
    "\n",
    "tstart = datetime.strptime(dis.index[0], '%Y-%m-%d %H:%M:%S')\n",
    "tend = datetime.strptime(dis.index[-1], '%Y-%m-%d %H:%M:%S')\n",
    "tref = tstart\n",
    "\n",
    "# sf.set_config(\"tref\", tref.strftime('%Y%m%d %H%M%S'))\n",
    "# sf.set_config(\"tstart\", tstart.strftime('%Y%m%d %H%M%S'))\n",
    "# sf.set_config(\"tstop\", tend.strftime('%Y%m%d %H%M%S'))\n",
    "\n",
    "dis = dis.values\n",
    "\n",
    "time = pd.date_range(\n",
    "start=utils.parse_datetime(sf.config[\"tstart\"]),\n",
    "end=utils.parse_datetime(sf.config[\"tstop\"]),freq = 'H')\n",
    "\n",
    "dispd = pd.DataFrame(index=time, columns=index, data=dis).fillna(method='ffill')\n",
    "\n",
    "src = gpd.read_file(str(model_file['src']))\n",
    "src = src.set_index('index')[['geometry']]\n",
    "\n",
    "# sf.setup_discharge_forcing(timeseries=dispd, locations=src)"
   ]
  },
  {
   "cell_type": "markdown",
   "id": "6365376d-df74-4061-8c0b-2739a7f488f6",
   "metadata": {},
   "source": [
    "# Setup precipitation"
   ]
  },
  {
   "cell_type": "code",
   "execution_count": 15,
   "id": "1dfdc577-102c-47cb-abae-34feeae661f0",
   "metadata": {
    "execution": {
     "iopub.execute_input": "2024-03-01T15:47:52.611003Z",
     "iopub.status.busy": "2024-03-01T15:47:52.610880Z",
     "iopub.status.idle": "2024-03-01T15:47:52.820990Z",
     "shell.execute_reply": "2024-03-01T15:47:52.820591Z",
     "shell.execute_reply.started": "2024-03-01T15:47:52.610991Z"
    }
   },
   "outputs": [],
   "source": [
    "# 2D precipitation\n",
    "\n",
    "# sf.setup_precip_forcing_from_grid(precip='precip_era5_hourly', aggregate=False)\n",
    "\n",
    "# 1D precipitation (ammend statistic as desired)\n",
    "\n",
    "# ds_precip = sf.data_catalog.get_rasterdataset(str(model_file['precip'])) # Read 2D precipitation\n",
    "# df_precip = ds_precip.to_dataframe().reset_index()[['time', 'precip']].groupby('time').mean() # Generate 1D timeseries as desired\n",
    "\n",
    "df_precip = pd.read_csv(str(model_file['precip']), index_col='datetime', parse_dates=['datetime'])\n",
    "\n",
    "sf.setup_precip_forcing(timeseries=df_precip)\n",
    "\n",
    "# sf.plot_forcing()"
   ]
  },
  {
   "cell_type": "markdown",
   "id": "6e46b65c-6a3e-407b-97ba-d53bd4c5e16f",
   "metadata": {},
   "source": [
    "# Add infiltration"
   ]
  },
  {
   "cell_type": "code",
   "execution_count": 16,
   "id": "3d966a3f-c680-4d8c-8834-1f22f110e125",
   "metadata": {
    "execution": {
     "iopub.execute_input": "2024-03-01T15:47:52.822154Z",
     "iopub.status.busy": "2024-03-01T15:47:52.821837Z",
     "iopub.status.idle": "2024-03-01T15:47:52.927586Z",
     "shell.execute_reply": "2024-03-01T15:47:52.927174Z",
     "shell.execute_reply.started": "2024-03-01T15:47:52.822137Z"
    }
   },
   "outputs": [],
   "source": [
    "sf.setup_cn_infiltration(str(model_file['inf']), antecedent_moisture=str(model_file['ant_moist']))"
   ]
  },
  {
   "cell_type": "markdown",
   "id": "a63662cb-c1e2-4bd1-892c-2a63a8cde6d0",
   "metadata": {},
   "source": [
    "# Setup observation points and observation lines"
   ]
  },
  {
   "cell_type": "code",
   "execution_count": 13,
   "id": "c2497595-04cb-4686-86ed-731bede5e56d",
   "metadata": {
    "execution": {
     "iopub.execute_input": "2024-11-26T10:04:27.197109Z",
     "iopub.status.busy": "2024-11-26T10:04:27.196456Z",
     "iopub.status.idle": "2024-11-26T10:04:27.546723Z",
     "shell.execute_reply": "2024-11-26T10:04:27.546299Z",
     "shell.execute_reply.started": "2024-11-26T10:04:27.197072Z"
    }
   },
   "outputs": [],
   "source": [
    "# Create lists of x and y coordinates based on n_dis\n",
    "gdf_obs = gpd.read_file(str(model_file['obs_points']))\n",
    "gdf_obs.index = list(range(1001, 1001 + len(gdf_obs)))\n",
    "\n",
    "sf.setup_observation_points(locations=gdf_obs)\n",
    "\n",
    "# Loading a LineString GeoJson clicked by user:\n",
    "sf.setup_observation_lines(locations=str(model_file['obs_lines']), merge=True)"
   ]
  },
  {
   "cell_type": "markdown",
   "id": "35ed8318-29e3-4b1e-a34c-e91c27e22fb2",
   "metadata": {},
   "source": [
    "# Add weir"
   ]
  },
  {
   "cell_type": "code",
   "execution_count": 18,
   "id": "62c87f99-458c-47a9-8dd2-b8a01415250f",
   "metadata": {
    "execution": {
     "iopub.execute_input": "2024-03-01T15:47:52.940289Z",
     "iopub.status.busy": "2024-03-01T15:47:52.940073Z",
     "iopub.status.idle": "2024-03-01T15:47:52.966924Z",
     "shell.execute_reply": "2024-03-01T15:47:52.966386Z",
     "shell.execute_reply.started": "2024-03-01T15:47:52.940275Z"
    }
   },
   "outputs": [],
   "source": [
    "# Check weir condition and execute code if weir is set to 'YES'\n",
    "\n",
    "weir = 'YES'\n",
    "weir1 = 'Inputs/weir.shp'\n",
    "weir2 = 'Inputs/weir_jons.shp'\n",
    "weir3 = 'Inputs/weir_cusset.shp'\n",
    "\n",
    "if weir == 'YES':\n",
    "    gpd_weir_1 = gpd.read_file(weir1)\n",
    "    gpd_weir_2 = gpd.read_file(weir2)\n",
    "    gpd_weir_3 = gpd.read_file(weir3)\n",
    "\n",
    "    #sf.setup_structures(structures=gpd_weir_1, stype='weir', dz = 25, dep = 'Inputs/bd_alti/elevtn_5.tif')\n",
    "    #sf.setup_structures(structures=gpd_weir_2, stype='weir', dz = 16.7, dep = 'Inputs/bd_alti/elevtn_5.tif')\n",
    "    #sf.setup_structures(structures=gpd_weir_3, stype='weir', dz = 17.3, dep = 'Inputs/bd_alti/elevtn_5.tif')\n",
    "\n",
    "    #weir_list = [weir1, weir2]\n",
    "    #for weir_fn in weir_list:\n",
    "    #    weir = weir_fn\n",
    "    #    gpd_weir = gpd.read_file(weir)\n",
    "    #    sf.setup_structures(structures=gpd_weir, stype='weir', dz = 25, dep = 'Inputs/bd_alti/elevtn_5.tif')\n",
    "    #    break"
   ]
  },
  {
   "cell_type": "markdown",
   "id": "0d434c61-ed3c-42f2-ba09-21335b12c107",
   "metadata": {},
   "source": [
    "# Computational parameters"
   ]
  },
  {
   "cell_type": "code",
   "execution_count": 20,
   "id": "e2711ef1-9d63-46d4-ba0e-25ddca1dd064",
   "metadata": {
    "execution": {
     "iopub.execute_input": "2024-03-01T15:47:52.998515Z",
     "iopub.status.busy": "2024-03-01T15:47:52.998393Z",
     "iopub.status.idle": "2024-03-01T15:47:53.002023Z",
     "shell.execute_reply": "2024-03-01T15:47:53.001489Z",
     "shell.execute_reply.started": "2024-03-01T15:47:52.998502Z"
    }
   },
   "outputs": [],
   "source": [
    "# tstart = dispd.index[0]\n",
    "# tend = dispd.index[-1]\n",
    "# tref = dispd.index[0]\n",
    "\n",
    "# sf.set_config(\"dx\", 300)\n",
    "# sf.set_config(\"dy\", 300)\n",
    "# sf.set_config(\"tref\", tref.strftime('%Y%m%d %H%M%S'))\n",
    "# sf.set_config(\"tstart\", tstart.strftime('%Y%m%d %H%M%S'))\n",
    "# sf.set_config(\"tstop\", '20021130 000000')\n",
    "# sf.set_config(\"dtout\", 10800)\n",
    "# sf.set_config(\"dtmax\", 300)\n",
    "# sf.set_config(\"dtmin\", 200)\n",
    "# sf.set_config(\"alpha\", 0.5)"
   ]
  },
  {
   "cell_type": "markdown",
   "id": "32088d8a-e927-4640-80ca-df486deb7e18",
   "metadata": {},
   "source": [
    "# Write"
   ]
  },
  {
   "cell_type": "code",
   "execution_count": 21,
   "id": "a1fa3438-d0ee-40f4-a6a5-f636ffd26d6a",
   "metadata": {
    "execution": {
     "iopub.execute_input": "2024-03-01T15:47:53.003141Z",
     "iopub.status.busy": "2024-03-01T15:47:53.002919Z",
     "iopub.status.idle": "2024-03-01T15:47:55.618874Z",
     "shell.execute_reply": "2024-03-01T15:47:55.618484Z",
     "shell.execute_reply.started": "2024-03-01T15:47:53.003126Z"
    },
    "scrolled": true
   },
   "outputs": [],
   "source": [
    "sf.write()"
   ]
  },
  {
   "cell_type": "raw",
   "id": "8b3f8936-0d58-43c6-8cfe-e34b41039570",
   "metadata": {},
   "source": [
    "fig, ax = sf.plot_basemap(variable=\"dep\", bmap=\"sat\",zoomlevel=12)"
   ]
  },
  {
   "cell_type": "markdown",
   "id": "2b78750e-e610-47d0-bd4b-16fdea32a1d0",
   "metadata": {},
   "source": [
    "# Run"
   ]
  },
  {
   "cell_type": "code",
   "execution_count": 22,
   "id": "e55fdcc9-570d-40cc-8640-3ead91ade2a7",
   "metadata": {
    "execution": {
     "iopub.execute_input": "2024-03-01T15:47:55.623185Z",
     "iopub.status.busy": "2024-03-01T15:47:55.622991Z",
     "iopub.status.idle": "2024-03-01T15:47:55.625782Z",
     "shell.execute_reply": "2024-03-01T15:47:55.625420Z",
     "shell.execute_reply.started": "2024-03-01T15:47:55.623171Z"
    }
   },
   "outputs": [
    {
     "name": "stdout",
     "output_type": "stream",
     "text": [
      "docker run -v /Users/aprida/Documents/Consulting/Private_sector/Keolis/Model_Alvaro/PL_100:/data deltares/sfincs-cpu\n"
     ]
    }
   ],
   "source": [
    "path = str('docker run -v ' + sf.root  + ':/data deltares/sfincs-cpu')\n",
    "print(path)\n",
    "\n",
    "# os.system(path)"
   ]
  }
 ],
 "metadata": {
  "kernelspec": {
   "display_name": "Python 3 (ipykernel)",
   "language": "python",
   "name": "python3"
  },
  "language_info": {
   "codemirror_mode": {
    "name": "ipython",
    "version": 3
   },
   "file_extension": ".py",
   "mimetype": "text/x-python",
   "name": "python",
   "nbconvert_exporter": "python",
   "pygments_lexer": "ipython3",
   "version": "3.10.13"
  }
 },
 "nbformat": 4,
 "nbformat_minor": 5
}
